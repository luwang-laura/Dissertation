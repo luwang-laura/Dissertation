{
 "cells": [
  {
   "cell_type": "code",
   "execution_count": 1,
   "id": "supreme-fundamental",
   "metadata": {},
   "outputs": [],
   "source": [
    "import pandas as pd\n",
    "import numpy as np\n",
    "from sklearn.metrics import silhouette_score\n",
    "from sklearn.cluster import KMeans\n",
    "import matplotlib.pyplot as plt\n",
    "import os as os\n",
    "import csv, sqlite3\n",
    "import seaborn as sns"
   ]
  },
  {
   "cell_type": "code",
   "execution_count": 2,
   "id": "historical-arizona",
   "metadata": {},
   "outputs": [
    {
     "name": "stdout",
     "output_type": "stream",
     "text": [
      "Please input file name：ECQ_D.csv: ECQ_D.csv\n"
     ]
    }
   ],
   "source": [
    "input_file_name = input(\"Please input file name：ECQ_D.csv: \")  ## Enter key to confirm input"
   ]
  },
  {
   "cell_type": "code",
   "execution_count": 3,
   "id": "public-jacket",
   "metadata": {},
   "outputs": [],
   "source": [
    "#Set Data path and variables to read\n",
    "os.chdir(r\"C:\\\\Users\\laura\\Desktop\\dissertation\\Python\\AI_model\\ECQ_10_years_PA7\")# You may change the path accordingly\n",
    "subset_varible=[\"SEQN\",\"ECD010\",\"ECQ020\",\"ECQ060\",\"ECD070A\",\"MCQ080E\",\"WHQ030E\"]  # Filter specified variables"
   ]
  },
  {
   "cell_type": "code",
   "execution_count": 4,
   "id": "matched-saint",
   "metadata": {},
   "outputs": [],
   "source": [
    "data=pd.read_csv(input_file_name)\n",
    "data1 = data[subset_varible]"
   ]
  },
  {
   "cell_type": "code",
   "execution_count": 5,
   "id": "developing-allah",
   "metadata": {},
   "outputs": [
    {
     "name": "stdout",
     "output_type": "stream",
     "text": [
      "(3171, 7)\n"
     ]
    },
    {
     "data": {
      "text/html": [
       "<div>\n",
       "<style scoped>\n",
       "    .dataframe tbody tr th:only-of-type {\n",
       "        vertical-align: middle;\n",
       "    }\n",
       "\n",
       "    .dataframe tbody tr th {\n",
       "        vertical-align: top;\n",
       "    }\n",
       "\n",
       "    .dataframe thead th {\n",
       "        text-align: right;\n",
       "    }\n",
       "</style>\n",
       "<table border=\"1\" class=\"dataframe\">\n",
       "  <thead>\n",
       "    <tr style=\"text-align: right;\">\n",
       "      <th></th>\n",
       "      <th>SEQN</th>\n",
       "      <th>ECD010</th>\n",
       "      <th>ECQ020</th>\n",
       "      <th>ECQ060</th>\n",
       "      <th>ECD070A</th>\n",
       "      <th>MCQ080E</th>\n",
       "      <th>WHQ030E</th>\n",
       "    </tr>\n",
       "  </thead>\n",
       "  <tbody>\n",
       "    <tr>\n",
       "      <th>1</th>\n",
       "      <td>31128.0</td>\n",
       "      <td>33.0</td>\n",
       "      <td>1.0</td>\n",
       "      <td>1.0</td>\n",
       "      <td>4.0</td>\n",
       "      <td>0.0</td>\n",
       "      <td>2.0</td>\n",
       "    </tr>\n",
       "    <tr>\n",
       "      <th>2</th>\n",
       "      <td>31129.0</td>\n",
       "      <td>19.0</td>\n",
       "      <td>2.0</td>\n",
       "      <td>2.0</td>\n",
       "      <td>6.0</td>\n",
       "      <td>0.0</td>\n",
       "      <td>3.0</td>\n",
       "    </tr>\n",
       "    <tr>\n",
       "      <th>4</th>\n",
       "      <td>31137.0</td>\n",
       "      <td>17.0</td>\n",
       "      <td>2.0</td>\n",
       "      <td>2.0</td>\n",
       "      <td>7.0</td>\n",
       "      <td>0.0</td>\n",
       "      <td>1.0</td>\n",
       "    </tr>\n",
       "    <tr>\n",
       "      <th>5</th>\n",
       "      <td>31138.0</td>\n",
       "      <td>21.0</td>\n",
       "      <td>2.0</td>\n",
       "      <td>2.0</td>\n",
       "      <td>7.0</td>\n",
       "      <td>0.0</td>\n",
       "      <td>3.0</td>\n",
       "    </tr>\n",
       "    <tr>\n",
       "      <th>6</th>\n",
       "      <td>31140.0</td>\n",
       "      <td>31.0</td>\n",
       "      <td>2.0</td>\n",
       "      <td>2.0</td>\n",
       "      <td>10.0</td>\n",
       "      <td>0.0</td>\n",
       "      <td>3.0</td>\n",
       "    </tr>\n",
       "  </tbody>\n",
       "</table>\n",
       "</div>"
      ],
      "text/plain": [
       "      SEQN  ECD010  ECQ020  ECQ060  ECD070A  MCQ080E  WHQ030E\n",
       "1  31128.0    33.0     1.0     1.0      4.0      0.0      2.0\n",
       "2  31129.0    19.0     2.0     2.0      6.0      0.0      3.0\n",
       "4  31137.0    17.0     2.0     2.0      7.0      0.0      1.0\n",
       "5  31138.0    21.0     2.0     2.0      7.0      0.0      3.0\n",
       "6  31140.0    31.0     2.0     2.0     10.0      0.0      3.0"
      ]
     },
     "execution_count": 5,
     "metadata": {},
     "output_type": "execute_result"
    }
   ],
   "source": [
    "data1 = data1.dropna(axis = 0, how ='any') #Remove Empty data\n",
    "data1 = data1[data1.ECD010 <= 60] ; data = data[data.ECQ060 <= 2]\n",
    "data1 = data1[data1.ECD070A <= 20] ; data = data[data.WHQ030E <= 3]\n",
    "data1 = data1[data1.MCQ080E <= 2] ; data = data[data.ECQ020 <= 2]#Remove abnormal data\n",
    "data1.MCQ080E[data1['MCQ080E'] == 2] = 0 #Change value 2 to 0 which means overweight\n",
    "print(data1.shape) #Check data dimension\n",
    "data1=data1[~data1['ECD010'].isin([999])] # Remove column contains infinity value: 999\n",
    "data1.head()"
   ]
  },
  {
   "cell_type": "code",
   "execution_count": 6,
   "id": "turned-private",
   "metadata": {},
   "outputs": [
    {
     "name": "stdout",
     "output_type": "stream",
     "text": [
      "<sqlite3.Connection object at 0x000001FEF649FA80>\n"
     ]
    }
   ],
   "source": [
    "import sqlite3\n",
    "# import cx_Oracle 'username/password@hostname:port/service_name'\n",
    "# connect function opens a connection to the SQLite database file, \n",
    "conn = sqlite3.connect('database.db')\n",
    "#Similarly we will make connection with other databases like Oracle, DB2 etc.\n",
    "print(conn)"
   ]
  },
  {
   "cell_type": "code",
   "execution_count": 7,
   "id": "accessory-channel",
   "metadata": {},
   "outputs": [
    {
     "name": "stdout",
     "output_type": "stream",
     "text": [
      "Table dropped\n"
     ]
    }
   ],
   "source": [
    "# Drop a table name Crypto if it exists already\n",
    "try:\n",
    "    conn.execute('DROP TABLE IF EXISTS `tan2345` ')\n",
    "except Exception as e:\n",
    "    raise(e)\n",
    "finally:\n",
    "    print('Table dropped')"
   ]
  },
  {
   "cell_type": "code",
   "execution_count": 8,
   "id": "contemporary-bunny",
   "metadata": {},
   "outputs": [],
   "source": [
    "# python check whether table in sqlite exist or not，if not, then create one\n",
    "def create_table():\n",
    "    conn = sqlite3.connect(\"database.db\")\n",
    "    try:\n",
    "        create_tb_cmd='''\n",
    "       create table tan2345(SEQN integer ,ECD010 integer,ECQ020 integer,ECQ060 integer,WHQ030E integer,ECD070A integer,MCQ080E integer);\n",
    "        '''\n",
    "        conn.execute(create_tb_cmd)\n",
    "    except:\n",
    "        print(\"Create table failed\")\n",
    "        return False\n",
    "    #conn.execute(insert_dt_cmd)\n",
    "    conn.commit()\n",
    "create_table()"
   ]
  },
  {
   "cell_type": "code",
   "execution_count": 9,
   "id": "atmospheric-champagne",
   "metadata": {},
   "outputs": [],
   "source": [
    "conn = sqlite3.connect(\"database.db\")\n",
    "cu=conn.cursor()\n",
    "data1.to_sql('tan2345',conn, if_exists='append', index=False)  # Inject the newly read data into the database table data in the form of a data frame\n",
    "conn.commit()"
   ]
  },
  {
   "cell_type": "code",
   "execution_count": 10,
   "id": "adjacent-warrant",
   "metadata": {},
   "outputs": [
    {
     "data": {
      "text/html": [
       "<div>\n",
       "<style scoped>\n",
       "    .dataframe tbody tr th:only-of-type {\n",
       "        vertical-align: middle;\n",
       "    }\n",
       "\n",
       "    .dataframe tbody tr th {\n",
       "        vertical-align: top;\n",
       "    }\n",
       "\n",
       "    .dataframe thead th {\n",
       "        text-align: right;\n",
       "    }\n",
       "</style>\n",
       "<table border=\"1\" class=\"dataframe\">\n",
       "  <thead>\n",
       "    <tr style=\"text-align: right;\">\n",
       "      <th></th>\n",
       "      <th>SEQN</th>\n",
       "      <th>ECD010</th>\n",
       "      <th>ECQ020</th>\n",
       "      <th>ECQ060</th>\n",
       "      <th>WHQ030E</th>\n",
       "      <th>ECD070A</th>\n",
       "      <th>MCQ080E</th>\n",
       "    </tr>\n",
       "  </thead>\n",
       "  <tbody>\n",
       "    <tr>\n",
       "      <th>0</th>\n",
       "      <td>31128</td>\n",
       "      <td>33</td>\n",
       "      <td>1</td>\n",
       "      <td>1</td>\n",
       "      <td>2</td>\n",
       "      <td>4</td>\n",
       "      <td>0</td>\n",
       "    </tr>\n",
       "    <tr>\n",
       "      <th>1</th>\n",
       "      <td>31129</td>\n",
       "      <td>19</td>\n",
       "      <td>2</td>\n",
       "      <td>2</td>\n",
       "      <td>3</td>\n",
       "      <td>6</td>\n",
       "      <td>0</td>\n",
       "    </tr>\n",
       "    <tr>\n",
       "      <th>2</th>\n",
       "      <td>31137</td>\n",
       "      <td>17</td>\n",
       "      <td>2</td>\n",
       "      <td>2</td>\n",
       "      <td>1</td>\n",
       "      <td>7</td>\n",
       "      <td>0</td>\n",
       "    </tr>\n",
       "    <tr>\n",
       "      <th>3</th>\n",
       "      <td>31138</td>\n",
       "      <td>21</td>\n",
       "      <td>2</td>\n",
       "      <td>2</td>\n",
       "      <td>3</td>\n",
       "      <td>7</td>\n",
       "      <td>0</td>\n",
       "    </tr>\n",
       "    <tr>\n",
       "      <th>4</th>\n",
       "      <td>31140</td>\n",
       "      <td>31</td>\n",
       "      <td>2</td>\n",
       "      <td>2</td>\n",
       "      <td>3</td>\n",
       "      <td>10</td>\n",
       "      <td>0</td>\n",
       "    </tr>\n",
       "  </tbody>\n",
       "</table>\n",
       "</div>"
      ],
      "text/plain": [
       "    SEQN  ECD010  ECQ020  ECQ060  WHQ030E  ECD070A  MCQ080E\n",
       "0  31128      33       1       1        2        4        0\n",
       "1  31129      19       2       2        3        6        0\n",
       "2  31137      17       2       2        1        7        0\n",
       "3  31138      21       2       2        3        7        0\n",
       "4  31140      31       2       2        3       10        0"
      ]
     },
     "execution_count": 10,
     "metadata": {},
     "output_type": "execute_result"
    }
   ],
   "source": [
    "##Read data from database\n",
    "conn = sqlite3.connect(\"database.db\")\n",
    "#print(conn)\n",
    "sql=\"SELECT * from tan2345\"\n",
    "newdata=pd.read_sql(sql,conn)\n",
    "newdata.head()"
   ]
  },
  {
   "cell_type": "code",
   "execution_count": 11,
   "id": "sexual-trading",
   "metadata": {},
   "outputs": [
    {
     "data": {
      "image/png": "[encoded data removed]",
      "text/plain": [
       "<Figure size 432x288 with 1 Axes>"
      ]
     },
     "metadata": {},
     "output_type": "display_data"
    }
   ],
   "source": [
    "num_list = list(newdata['ECQ020'].value_counts()) #获取列ECQ020数据\n",
    "#name_list = list(newdata['ECQ020'].value_counts().index) #获取列ECQ020有哪些值\n",
    "plt.axes(aspect = 1) #饼图类型\n",
    "plt.pie(x = num_list, labels = num_list, autopct = '%3.1f %%') #饼图\n",
    "plt.title('ECQ020' + ' Pie Chart') #设置标题\n",
    "plt.show()"
   ]
  },
  {
   "cell_type": "code",
   "execution_count": null,
   "id": "chubby-demographic",
   "metadata": {},
   "outputs": [],
   "source": []
  },
  {
   "cell_type": "markdown",
   "id": "aboriginal-agenda",
   "metadata": {},
   "source": [
    "对变量“ECQ020”（母亲怀孕时抽烟）绘制饼图，从上图可以看出有14%的母亲选项为1即孕期吸烟，86%的母亲选项为2即孕期不吸烟。"
   ]
  },
  {
   "cell_type": "code",
   "execution_count": 12,
   "id": "quarterly-bubble",
   "metadata": {},
   "outputs": [],
   "source": [
    "# #labels=['ECD010','ECQ020','ECQ060','WHQ030E','ECD070A','MCQ080E']\n",
    "# plt.pie(newdata['ECD010'],newdata['ECQ020'],newdata['ECQ060'],newdata['WHQ030E'],newdata['ECD070A'],newdata['MCQ080E'])\n",
    "# #plt.show() "
   ]
  },
  {
   "cell_type": "code",
   "execution_count": 13,
   "id": "speaking-economy",
   "metadata": {},
   "outputs": [],
   "source": [
    "#newdata.groupby(['ECD070A']).plot(kind='pie',y='MCQ080E' )"
   ]
  },
  {
   "cell_type": "code",
   "execution_count": 14,
   "id": "actual-treatment",
   "metadata": {},
   "outputs": [
    {
     "data": {
      "image/png": "[encoded data removed]",
      "text/plain": [
       "<Figure size 540x360 with 1 Axes>"
      ]
     },
     "metadata": {
      "needs_background": "light"
     },
     "output_type": "display_data"
    }
   ],
   "source": [
    "overall_weight_mean = newdata.mean()[\"ECD070A\"]  # Calculate overall average weight\n",
    "weight_change = newdata.groupby(\"ECD010\").mean()[\"ECD070A\"]  # The average baby weight changes with the age of the mother when giving birth\n",
    "x_data = [str(int(i)) for i in weight_change.index] ; y_data = weight_change.values\n",
    "sns.relplot(x=x_data,y=y_data, kind=\"line\",color = 'b', label = 'weight_change',aspect=1.5) #Line Chart\n",
    "plt.axhline(y = overall_weight_mean, color = 'r', label = 'overall_weight_mean') #Add the average line \n",
    "plt.text(38, 6.85, round(overall_weight_mean, 2), fontdict = {'size' : '20','color' : 'r'}) #Add value label\n",
    "plt.legend() #Legend\n",
    "plt.ylabel(\"Weight at birth, pounds\") ; plt.xlabel(\"Mother's age when born\") #Set x-axis and y-axis labels\n",
    "plt.show()\n",
    "#sns.set(rc={\"figure.figsize\":(3, 4)}) #width=3, #height=4"
   ]
  },
  {
   "cell_type": "code",
   "execution_count": 15,
   "id": "colonial-cabinet",
   "metadata": {},
   "outputs": [
    {
     "data": {
      "text/html": [
       "<div>\n",
       "<style scoped>\n",
       "    .dataframe tbody tr th:only-of-type {\n",
       "        vertical-align: middle;\n",
       "    }\n",
       "\n",
       "    .dataframe tbody tr th {\n",
       "        vertical-align: top;\n",
       "    }\n",
       "\n",
       "    .dataframe thead th {\n",
       "        text-align: right;\n",
       "    }\n",
       "</style>\n",
       "<table border=\"1\" class=\"dataframe\">\n",
       "  <thead>\n",
       "    <tr style=\"text-align: right;\">\n",
       "      <th></th>\n",
       "      <th>ECD010</th>\n",
       "      <th>ECQ020</th>\n",
       "      <th>ECQ060</th>\n",
       "      <th>ECD070A</th>\n",
       "      <th>MCQ080E</th>\n",
       "      <th>WHQ030E</th>\n",
       "    </tr>\n",
       "  </thead>\n",
       "  <tbody>\n",
       "    <tr>\n",
       "      <th>0</th>\n",
       "      <td>1.173061</td>\n",
       "      <td>-1.639708</td>\n",
       "      <td>-1.995253</td>\n",
       "      <td>-1.980839</td>\n",
       "      <td>-0.329707</td>\n",
       "      <td>-0.845599</td>\n",
       "    </tr>\n",
       "    <tr>\n",
       "      <th>1</th>\n",
       "      <td>-1.138487</td>\n",
       "      <td>0.206055</td>\n",
       "      <td>0.273283</td>\n",
       "      <td>-0.570117</td>\n",
       "      <td>-0.329707</td>\n",
       "      <td>0.479855</td>\n",
       "    </tr>\n",
       "    <tr>\n",
       "      <th>2</th>\n",
       "      <td>-1.468708</td>\n",
       "      <td>0.206055</td>\n",
       "      <td>0.273283</td>\n",
       "      <td>0.135244</td>\n",
       "      <td>-0.329707</td>\n",
       "      <td>-2.171052</td>\n",
       "    </tr>\n",
       "    <tr>\n",
       "      <th>3</th>\n",
       "      <td>-0.808266</td>\n",
       "      <td>0.206055</td>\n",
       "      <td>0.273283</td>\n",
       "      <td>0.135244</td>\n",
       "      <td>-0.329707</td>\n",
       "      <td>0.479855</td>\n",
       "    </tr>\n",
       "    <tr>\n",
       "      <th>4</th>\n",
       "      <td>0.842840</td>\n",
       "      <td>0.206055</td>\n",
       "      <td>0.273283</td>\n",
       "      <td>2.251327</td>\n",
       "      <td>-0.329707</td>\n",
       "      <td>0.479855</td>\n",
       "    </tr>\n",
       "  </tbody>\n",
       "</table>\n",
       "</div>"
      ],
      "text/plain": [
       "     ECD010    ECQ020    ECQ060   ECD070A   MCQ080E   WHQ030E\n",
       "0  1.173061 -1.639708 -1.995253 -1.980839 -0.329707 -0.845599\n",
       "1 -1.138487  0.206055  0.273283 -0.570117 -0.329707  0.479855\n",
       "2 -1.468708  0.206055  0.273283  0.135244 -0.329707 -2.171052\n",
       "3 -0.808266  0.206055  0.273283  0.135244 -0.329707  0.479855\n",
       "4  0.842840  0.206055  0.273283  2.251327 -0.329707  0.479855"
      ]
     },
     "execution_count": 15,
     "metadata": {},
     "output_type": "execute_result"
    }
   ],
   "source": [
    "Kdata = newdata[subset_varible[1:]] #Remove first column\n",
    "Kdata = (Kdata - Kdata.mean(axis  =0))/(Kdata.std(axis = 0)) #z-score Strandardize\n",
    "Kdata.head()"
   ]
  },
  {
   "cell_type": "markdown",
   "id": "temporal-folder",
   "metadata": {},
   "source": [
    "# Clustering Analysis"
   ]
  },
  {
   "cell_type": "code",
   "execution_count": 16,
   "id": "comfortable-trick",
   "metadata": {},
   "outputs": [
    {
     "data": {
      "image/png": "[encoded data removed]",
      "text/plain": [
       "<Figure size 432x288 with 1 Axes>"
      ]
     },
     "metadata": {
      "needs_background": "light"
     },
     "output_type": "display_data"
    }
   ],
   "source": [
    "# Using the elbow method to find the optimal number of clusters\n",
    "SSE = []  # Store the sum of squared errors of each result\n",
    "for k in range(1, 15):\n",
    "    estimator = KMeans(n_clusters = k)  # Construct a clusterer\n",
    "    estimator.fit(Kdata)\n",
    "    SSE.append(estimator.inertia_)\n",
    "X = range(1, 15)\n",
    "plt.plot(X, SSE, 'o-')\n",
    "plt.title('The Elbow Method')\n",
    "plt.xlabel('Number of Clusters')\n",
    "plt.ylabel('K values')\n",
    "plt.show()"
   ]
  },
  {
   "cell_type": "markdown",
   "id": "moral-magazine",
   "metadata": {},
   "source": [
    "We can see the point 5 is the turning point which is decreasing sharply.That means clustering the dataset into 5 categories should be the best choice"
   ]
  },
  {
   "cell_type": "code",
   "execution_count": 17,
   "id": "boring-theme",
   "metadata": {},
   "outputs": [
    {
     "data": {
      "text/html": [
       "<div>\n",
       "<style scoped>\n",
       "    .dataframe tbody tr th:only-of-type {\n",
       "        vertical-align: middle;\n",
       "    }\n",
       "\n",
       "    .dataframe tbody tr th {\n",
       "        vertical-align: top;\n",
       "    }\n",
       "\n",
       "    .dataframe thead th {\n",
       "        text-align: right;\n",
       "    }\n",
       "</style>\n",
       "<table border=\"1\" class=\"dataframe\">\n",
       "  <thead>\n",
       "    <tr style=\"text-align: right;\">\n",
       "      <th></th>\n",
       "      <th>ECD010</th>\n",
       "      <th>ECQ020</th>\n",
       "      <th>ECQ060</th>\n",
       "      <th>ECD070A</th>\n",
       "      <th>MCQ080E</th>\n",
       "      <th>WHQ030E</th>\n",
       "      <th>Number</th>\n",
       "    </tr>\n",
       "  </thead>\n",
       "  <tbody>\n",
       "    <tr>\n",
       "      <th>0</th>\n",
       "      <td>0.000776</td>\n",
       "      <td>-0.094541</td>\n",
       "      <td>-1.982290</td>\n",
       "      <td>-1.057823</td>\n",
       "      <td>-0.310497</td>\n",
       "      <td>0.086006</td>\n",
       "      <td>350</td>\n",
       "    </tr>\n",
       "    <tr>\n",
       "      <th>1</th>\n",
       "      <td>-0.714672</td>\n",
       "      <td>-0.084069</td>\n",
       "      <td>0.279737</td>\n",
       "      <td>-0.049374</td>\n",
       "      <td>-0.329707</td>\n",
       "      <td>0.109369</td>\n",
       "      <td>1406</td>\n",
       "    </tr>\n",
       "    <tr>\n",
       "      <th>2</th>\n",
       "      <td>-0.135494</td>\n",
       "      <td>-0.045640</td>\n",
       "      <td>-0.028697</td>\n",
       "      <td>0.158146</td>\n",
       "      <td>3.032036</td>\n",
       "      <td>-1.318975</td>\n",
       "      <td>308</td>\n",
       "    </tr>\n",
       "    <tr>\n",
       "      <th>3</th>\n",
       "      <td>-0.523075</td>\n",
       "      <td>13.126397</td>\n",
       "      <td>2.541819</td>\n",
       "      <td>-0.570117</td>\n",
       "      <td>-0.024094</td>\n",
       "      <td>-0.243120</td>\n",
       "      <td>11</td>\n",
       "    </tr>\n",
       "    <tr>\n",
       "      <th>4</th>\n",
       "      <td>0.959893</td>\n",
       "      <td>0.019121</td>\n",
       "      <td>0.256724</td>\n",
       "      <td>0.362427</td>\n",
       "      <td>-0.329707</td>\n",
       "      <td>0.205332</td>\n",
       "      <td>1096</td>\n",
       "    </tr>\n",
       "  </tbody>\n",
       "</table>\n",
       "</div>"
      ],
      "text/plain": [
       "     ECD010     ECQ020    ECQ060   ECD070A   MCQ080E   WHQ030E  Number\n",
       "0  0.000776  -0.094541 -1.982290 -1.057823 -0.310497  0.086006     350\n",
       "1 -0.714672  -0.084069  0.279737 -0.049374 -0.329707  0.109369    1406\n",
       "2 -0.135494  -0.045640 -0.028697  0.158146  3.032036 -1.318975     308\n",
       "3 -0.523075  13.126397  2.541819 -0.570117 -0.024094 -0.243120      11\n",
       "4  0.959893   0.019121  0.256724  0.362427 -0.329707  0.205332    1096"
      ]
     },
     "execution_count": 17,
     "metadata": {},
     "output_type": "execute_result"
    }
   ],
   "source": [
    "kmodel = KMeans(n_clusters = 5) #Cluster Group set to 5\n",
    "kmodel.fit(Kdata) #Train Model \n",
    "label = pd.Series(kmodel.labels_)  # Fetch types of each sample\n",
    "num = pd.Series(kmodel.labels_).value_counts()  # Count the number of categories corresponding to each sample 统计各样本对应的类别的数目\n",
    "center = pd.DataFrame(kmodel.cluster_centers_)  # Find cluster centers, horizontal variables, vertical categories找出聚类中心,横变量，纵类别\n",
    "#Max = center.values.max() ; Min = center.values.min()\n",
    "X = pd.concat([center, num], axis = 1)  # Horizontal connection (0 is vertical) to get the number of categories corresponding to the cluster center横向连接（0是纵向），得到聚类中心对应的类别数目  \n",
    "X.columns = list(Kdata.columns) + ['Number'] # Add a \"number\" column\n",
    "X"
   ]
  },
  {
   "cell_type": "code",
   "execution_count": 32,
   "id": "mobile-referral",
   "metadata": {},
   "outputs": [
    {
     "ename": "TypeError",
     "evalue": "list indices must be integers or slices, not str",
     "output_type": "error",
     "traceback": [
      "\u001b[1;31m---------------------------------------------------------------------------\u001b[0m",
      "\u001b[1;31mTypeError\u001b[0m                                 Traceback (most recent call last)",
      "\u001b[1;32m<ipython-input-32-653231125165>\u001b[0m in \u001b[0;36m<module>\u001b[1;34m\u001b[0m\n\u001b[1;32m----> 1\u001b[1;33m \u001b[0mKdata\u001b[0m\u001b[1;33m[\u001b[0m\u001b[1;34m'Type'\u001b[0m\u001b[1;33m]\u001b[0m \u001b[1;33m=\u001b[0m \u001b[0mlabel\u001b[0m\u001b[1;33m.\u001b[0m\u001b[0mvalues\u001b[0m\u001b[1;33m\u001b[0m\u001b[1;33m\u001b[0m\u001b[0m\n\u001b[0m\u001b[0;32m      2\u001b[0m \u001b[0mKdata\u001b[0m\u001b[1;33m.\u001b[0m\u001b[0mhead\u001b[0m\u001b[1;33m(\u001b[0m\u001b[1;33m)\u001b[0m\u001b[1;33m\u001b[0m\u001b[1;33m\u001b[0m\u001b[0m\n",
      "\u001b[1;31mTypeError\u001b[0m: list indices must be integers or slices, not str"
     ]
    }
   ],
   "source": [
    "Kdata['Type'] = label.values\n",
    "Kdata.head()"
   ]
  },
  {
   "cell_type": "code",
   "execution_count": 33,
   "id": "formal-tomorrow",
   "metadata": {},
   "outputs": [
    {
     "data": {
      "text/html": [
       "<div>\n",
       "<style scoped>\n",
       "    .dataframe tbody tr th:only-of-type {\n",
       "        vertical-align: middle;\n",
       "    }\n",
       "\n",
       "    .dataframe tbody tr th {\n",
       "        vertical-align: top;\n",
       "    }\n",
       "\n",
       "    .dataframe thead th {\n",
       "        text-align: right;\n",
       "    }\n",
       "</style>\n",
       "<table border=\"1\" class=\"dataframe\">\n",
       "  <thead>\n",
       "    <tr style=\"text-align: right;\">\n",
       "      <th></th>\n",
       "      <th>ID</th>\n",
       "      <th>Mother's age when born</th>\n",
       "      <th>Mother smoked when pregnant</th>\n",
       "      <th>Receive newborn care at health facility</th>\n",
       "      <th>Weight at birth, pounds</th>\n",
       "      <th>Doctor confirmed overweight</th>\n",
       "      <th>How do you consider weight</th>\n",
       "    </tr>\n",
       "  </thead>\n",
       "  <tbody>\n",
       "    <tr>\n",
       "      <th>0</th>\n",
       "      <td>0.000776</td>\n",
       "      <td>-0.094541</td>\n",
       "      <td>-1.982290</td>\n",
       "      <td>-1.057823</td>\n",
       "      <td>-0.310497</td>\n",
       "      <td>0.086006</td>\n",
       "      <td>350</td>\n",
       "    </tr>\n",
       "    <tr>\n",
       "      <th>1</th>\n",
       "      <td>-0.714672</td>\n",
       "      <td>-0.084069</td>\n",
       "      <td>0.279737</td>\n",
       "      <td>-0.049374</td>\n",
       "      <td>-0.329707</td>\n",
       "      <td>0.109369</td>\n",
       "      <td>1406</td>\n",
       "    </tr>\n",
       "    <tr>\n",
       "      <th>2</th>\n",
       "      <td>-0.135494</td>\n",
       "      <td>-0.045640</td>\n",
       "      <td>-0.028697</td>\n",
       "      <td>0.158146</td>\n",
       "      <td>3.032036</td>\n",
       "      <td>-1.318975</td>\n",
       "      <td>308</td>\n",
       "    </tr>\n",
       "    <tr>\n",
       "      <th>3</th>\n",
       "      <td>-0.523075</td>\n",
       "      <td>13.126397</td>\n",
       "      <td>2.541819</td>\n",
       "      <td>-0.570117</td>\n",
       "      <td>-0.024094</td>\n",
       "      <td>-0.243120</td>\n",
       "      <td>11</td>\n",
       "    </tr>\n",
       "    <tr>\n",
       "      <th>4</th>\n",
       "      <td>0.959893</td>\n",
       "      <td>0.019121</td>\n",
       "      <td>0.256724</td>\n",
       "      <td>0.362427</td>\n",
       "      <td>-0.329707</td>\n",
       "      <td>0.205332</td>\n",
       "      <td>1096</td>\n",
       "    </tr>\n",
       "  </tbody>\n",
       "</table>\n",
       "</div>"
      ],
      "text/plain": [
       "         ID  Mother's age when born  Mother smoked when pregnant  \\\n",
       "0  0.000776               -0.094541                    -1.982290   \n",
       "1 -0.714672               -0.084069                     0.279737   \n",
       "2 -0.135494               -0.045640                    -0.028697   \n",
       "3 -0.523075               13.126397                     2.541819   \n",
       "4  0.959893                0.019121                     0.256724   \n",
       "\n",
       "   Receive newborn care at health facility  Weight at birth, pounds  \\\n",
       "0                                -1.057823                -0.310497   \n",
       "1                                -0.049374                -0.329707   \n",
       "2                                 0.158146                 3.032036   \n",
       "3                                -0.570117                -0.024094   \n",
       "4                                 0.362427                -0.329707   \n",
       "\n",
       "   Doctor confirmed overweight  How do you consider weight  \n",
       "0                     0.086006                         350  \n",
       "1                     0.109369                        1406  \n",
       "2                    -1.318975                         308  \n",
       "3                    -0.243120                          11  \n",
       "4                     0.205332                        1096  "
      ]
     },
     "execution_count": 33,
     "metadata": {},
     "output_type": "execute_result"
    }
   ],
   "source": [
    "X.columns = [\"ID\",\"Mother's age when born\", \"Mother smoked when pregnant\",\n",
    "                   \"Receive newborn care at health facility\", \"Weight at birth, pounds\",\n",
    "                     \"Doctor confirmed overweight\", \"How do you consider weight\"]\n",
    "#X['Type'] = label.values\n",
    "X.head()"
   ]
  },
  {
   "cell_type": "code",
   "execution_count": 21,
   "id": "stuffed-decision",
   "metadata": {},
   "outputs": [
    {
     "ename": "SyntaxError",
     "evalue": "invalid syntax (<ipython-input-21-f1d2e5b3df21>, line 1)",
     "output_type": "error",
     "traceback": [
      "\u001b[1;36m  File \u001b[1;32m\"<ipython-input-21-f1d2e5b3df21>\"\u001b[1;36m, line \u001b[1;32m1\u001b[0m\n\u001b[1;33m    As we know, the dataset can be clustered into five groups/categories\u001b[0m\n\u001b[1;37m       ^\u001b[0m\n\u001b[1;31mSyntaxError\u001b[0m\u001b[1;31m:\u001b[0m invalid syntax\n"
     ]
    }
   ],
   "source": [
    "As we know, the dataset can be clustered into five groups/categories  "
   ]
  },
  {
   "cell_type": "markdown",
   "id": "wired-rough",
   "metadata": {},
   "source": [
    "# Scatter Analysis"
   ]
  },
  {
   "cell_type": "markdown",
   "id": "considerable-footwear",
   "metadata": {},
   "source": [
    "fig = plt.figure(figsize=(10, 4)) # Set Figure size\n",
    "sns.scatterplot(data=Kdata, x=Kdata.ECD010[Kdata['Category'] == 0],y= Kdata.ECD070A[Kdata['Category'] == 0], label = \"Category 0\")\n",
    "sns.scatterplot(data=Kdata, x=Kdata.ECD010[Kdata['Category'] == 1],y= Kdata.ECD070A[Kdata['Category'] == 1], label = \"Category 1\")\n",
    "sns.scatterplot(data=Kdata, x=Kdata.ECD010[Kdata['Category'] == 2],y= Kdata.ECD070A[Kdata['Category'] == 2], label = \"Category 2\")\n",
    "sns.scatterplot(data=Kdata, x=Kdata.ECD010[Kdata['Category'] == 3],y= Kdata.ECD070A[Kdata['Category'] == 3], label = \"Category 3\")\n",
    "sns.scatterplot(data=Kdata, x=Kdata.ECD010[Kdata['Category'] == 4],y= Kdata.ECD070A[Kdata['Category'] == 4], label = \"Category 4\")\n",
    "plt.ylabel(\"Weight at birth, pounds\") ; plt.xlabel(\"Mother's age when born\")\n",
    "plt.legend()\n",
    "plt.show()"
   ]
  },
  {
   "cell_type": "code",
   "execution_count": null,
   "id": "complex-manchester",
   "metadata": {},
   "outputs": [],
   "source": [
    "Kdata.loc[Kdata['Category']==3]\n",
    "Kdata.loc[(Kdata['ECD010']) & (Kdata['column_name'] <= B)]"
   ]
  },
  {
   "cell_type": "markdown",
   "id": "express-excitement",
   "metadata": {},
   "source": [
    "Conclusion: From the Scatter we can see the Category 3 is the majority, after checking the table, we found the younger the mother's age, the higher baby's weight"
   ]
  },
  {
   "cell_type": "code",
   "execution_count": null,
   "id": "african-socket",
   "metadata": {},
   "outputs": [],
   "source": [
    "#del Kdata['Type'] #删除列\n",
    "#np.ravel(Kdata)\n",
    "#plt.xlabel('k') ; plt.ylabel('SSE')\n",
    "#需要进行的聚类类别数\n",
    "# k = 5 \n",
    "# #读取数据并进行聚类分析\n",
    "# #读取数据\n",
    "# #data = pd.read_csv(input_file_name) \n",
    "\n",
    "# #调用k-means算法，进行聚类分析\n",
    "# kmodel = KMeans(n_clusters = k) \n",
    "# #训练模型\n",
    "# kmodel.fit(Kdata) \n",
    "\n",
    "# #查看聚类中心\n",
    "# print(kmodel.cluster_centers_) \n",
    "# #查看各样本对应的类别\n",
    "# print(kmodel.labels_ )"
   ]
  },
  {
   "cell_type": "code",
   "execution_count": 96,
   "id": "derived-zoning",
   "metadata": {},
   "outputs": [],
   "source": [
    "# label = pd.Series(kmodel.labels_)  # 各样本的类别\n",
    "# num = pd.Series(kmodel.labels_).value_counts()  # 统计各样本对应的类别的数目\n",
    "# center = pd.DataFrame(kmodel.cluster_centers_)  # 找出聚类中心,横变量，纵类别\n",
    "# Max = center.values.max() ; Min = center.values.min()\n",
    "# X = pd.concat([center, num], axis = 1)  # 横向连接（0是纵向），得到聚类中心对应的类别数目  <class 'pandas.core.frame.DataFrame'>\n",
    "# X.columns = list(Kdata.columns) + ['NUM']  # 表头加上一列\n",
    "# X"
   ]
  },
  {
   "cell_type": "code",
   "execution_count": 20,
   "id": "economic-budapest",
   "metadata": {},
   "outputs": [],
   "source": [
    "#mean_result = mean_result[mean_result.index <= 35]  # 筛选出年龄小于等于35岁\n",
    "# # Using the elbow method to find the optimal number of clusters\n",
    "# SSE = []  # 存放每次结果的误差平方和\n",
    "# for k in range(1, 15):\n",
    "#     estimator = KMeans(n_clusters = k)  # 构造聚类器\n",
    "#     estimator.fit(Kdata)\n",
    "#     SSE.append(estimator.inertia_)\n",
    "# X = range(1, 15)\n",
    "# plt.plot(X, SSE, 'o-')\n",
    "# #plt.xlabel('k') ; plt.ylabel('SSE')\n",
    "# plt.title('The Elbow Method')\n",
    "# plt.xlabel('Number of Clusters')\n",
    "# plt.ylabel('array')\n",
    "# plt.show()"
   ]
  },
  {
   "cell_type": "code",
   "execution_count": 93,
   "id": "adjustable-witness",
   "metadata": {},
   "outputs": [],
   "source": [
    "#手肘发\n",
    "# # Using the elbow method to find the optimal number of clusters\n",
    "# from sklearn.cluster import KMeans\n",
    "# a = []\n",
    "# for i in range(2,15):\n",
    "#     kmeans = KMeans(n_clusters = i, max_iter = 300, n_init = 10, init = 'k-means++', random_state = 0)\n",
    "#     kmeans.fit(X)\n",
    "#     a.append(kmeans.inertia_)\n",
    "# plt.plot(range(2,15), a)\n",
    "# plt.title('The Elbow Method')\n",
    "# plt.xlabel('Number of Clusters')\n",
    "# plt.ylabel('array')\n",
    "# plt.show()"
   ]
  },
  {
   "cell_type": "markdown",
   "id": "activated-listening",
   "metadata": {},
   "source": [
    "# Radar Chart  "
   ]
  },
  {
   "cell_type": "code",
   "execution_count": 68,
   "id": "superb-adobe",
   "metadata": {},
   "outputs": [],
   "source": [
    "#Radar Chhart\n",
    "# fig = plt.figure(figsize = (8,6))\n",
    "# ax = fig.add_subplot(111, polar=True) #polar=True 画圆形\n",
    "# feature = list(Kdata.columns)\n",
    "# center_num = X.values  #<class 'numpy.ndarray'>\n",
    "# N = len(feature) ; total = X.NUM.sum()\n",
    "\n",
    "# for i, v in enumerate(center_num):\n",
    "#     # 设置雷达图的角度，用于平分切开一个圆面\n",
    "#     angles = np.linspace(0, 2 * np.pi, N, endpoint=False)\n",
    "#     # 为了使雷达图一圈封闭起来，需要下面的步骤\n",
    "#     center = np.concatenate((v[:-1], [v[0]]))\n",
    "#     angles = np.concatenate((angles, [angles[0]]))\n",
    "#     np.ravel(center); np.ravel(angles);np.ravel(center_num);np.ravel(Kdata); np.ravel(X);np.ravel(total);\n",
    "#     # 绘制折线图\n",
    "#     ax.plot(angles, center, 'o-', linewidth=2, label=\"NO.%d = %d (%.2f%%)\" % (i, v[-1],v[-1]*100/total))\n",
    "#     # 填充颜色\n",
    "#     ax.fill(angles, center, alpha=0.25)\n",
    "#     # 添加每个特征的标签\n",
    "#     ax.set_thetagrids(angles * 180 / np.pi, feature, fontsize=12)\n",
    "#     # 设置雷达图的范围\n",
    "#     ax.set_ylim(Min - 0.1, Max + 0.1)\n",
    "#     # 添加标题\n",
    "#     plt.title('SHOP_CLUSTERING', fontsize=20)\n",
    "#     # 添加网格线\n",
    "#     ax.grid(True)\n",
    "#     # 设置图例\n",
    "#     plt.legend(loc='upper right', bbox_to_anchor=(1.3, 1.0), ncol=1, fancybox=True, shadow=True)\n",
    "#plt.show() # 显示图形"
   ]
  },
  {
   "cell_type": "code",
   "execution_count": 2,
   "id": "forty-preservation",
   "metadata": {},
   "outputs": [],
   "source": [
    "# y_mean = Kdata['ECD070A'].mean() #计算列ECD070A平均值\n",
    "# l = Kdata.shape[0] #获取行数\n",
    "# np.random.seed(321) #设置随机数种子，确保每次产生随机数相同\n",
    "# x = Kdata['ECD010'].values + np.random.randint(-500, 500, l) /50\n",
    "# np.random.seed(123) #设置随机数种子，确保每次产生随机数相同\n",
    "# y = Kdata['ECD070A'].values + np.random.randint(-500, 500, l)/50\n",
    "# plt.scatter(x, y, alpha = 0.35) #散点图(alpha设置散点透明度)\n",
    "# plt.axhline(y = y_mean, color = 'r') #添加均值线\n",
    "# plt.title('ECD010' + '-' + 'ECD070A' + ' Scatter plot') #设置标题\n",
    "# plt.ylabel('ECD070A') ; plt.xlabel('ECD010') #设置x轴，y轴标签\n",
    "# plt.show()"
   ]
  },
  {
   "cell_type": "code",
   "execution_count": 3,
   "id": "mighty-blast",
   "metadata": {},
   "outputs": [],
   "source": [
    "# label = list(data['ECQ060'].value_counts().index) #获取列MCQ080E有哪些值\n",
    "# v = [] #创建空列表\n",
    "# for i in label: #按列MCQ080E对ECD070A进行分组\n",
    "#     vi = list(data[data['ECQ060'] == i]['ECD070A'].values)\n",
    "#     v.append(vi)\n",
    "# plt.boxplot(v, labels = label) #箱线图\n",
    "# plt.ylabel('ECD070A') ; plt.xlabel('ECQ060') #设置x轴,y轴标签\n",
    "# plt.show()"
   ]
  },
  {
   "cell_type": "code",
   "execution_count": 4,
   "id": "patent-check",
   "metadata": {},
   "outputs": [
    {
     "ename": "SyntaxError",
     "evalue": "invalid character in identifier (<ipython-input-4-580f4f69b8d4>, line 1)",
     "output_type": "error",
     "traceback": [
      "\u001b[1;36m  File \u001b[1;32m\"<ipython-input-4-580f4f69b8d4>\"\u001b[1;36m, line \u001b[1;32m1\u001b[0m\n\u001b[1;33m    £Kdata.boxplot(column=[\"ECD010\",\"ECQ020\",\"ECD070A\",\"MCQ080E\"])\u001b[0m\n\u001b[1;37m         ^\u001b[0m\n\u001b[1;31mSyntaxError\u001b[0m\u001b[1;31m:\u001b[0m invalid character in identifier\n"
     ]
    }
   ],
   "source": [
    "#Kdata.boxplot(column=[\"ECD010\",\"ECQ020\",\"ECD070A\",\"MCQ080E\"])"
   ]
  },
  {
   "cell_type": "code",
   "execution_count": 5,
   "id": "gothic-arena",
   "metadata": {},
   "outputs": [],
   "source": [
    "#Kdata.boxplot(column=[\"ECD010\",\"ECQ020\",\"ECQ060\",\"ECD070A\",\"MCQ080E\",\"WHQ030E\"])"
   ]
  },
  {
   "cell_type": "code",
   "execution_count": 6,
   "id": "serious-mineral",
   "metadata": {},
   "outputs": [],
   "source": [
    "#Kdata.hist(column=['ECD010','ECQ020','ECD070A','MCQ080E'])"
   ]
  },
  {
   "cell_type": "markdown",
   "id": "joined-lambda",
   "metadata": {},
   "source": [
    "# Pie Chart"
   ]
  },
  {
   "cell_type": "code",
   "execution_count": 7,
   "id": "endless-engineering",
   "metadata": {},
   "outputs": [],
   "source": [
    "#Kdata.groupby(['ECD070A']).plot(kind='pie',y='MCQ080E' )"
   ]
  },
  {
   "cell_type": "markdown",
   "id": "controlled-malpractice",
   "metadata": {},
   "source": [
    "# Bar Chart"
   ]
  },
  {
   "cell_type": "code",
   "execution_count": 8,
   "id": "generic-powder",
   "metadata": {},
   "outputs": [],
   "source": [
    "#plt.bar(Kdata['ECD010'],Kdata['ECQ020'],Kdata['ECD070A'],Kdata['MCQ080E'])"
   ]
  },
  {
   "cell_type": "code",
   "execution_count": null,
   "id": "advisory-testimony",
   "metadata": {},
   "outputs": [],
   "source": []
  }
 ],
 "metadata": {
  "kernelspec": {
   "display_name": "Python 3",
   "language": "python",
   "name": "python3"
  },
  "language_info": {
   "codemirror_mode": {
    "name": "ipython",
    "version": 3
   },
   "file_extension": ".py",
   "mimetype": "text/x-python",
   "name": "python",
   "nbconvert_exporter": "python",
   "pygments_lexer": "ipython3",
   "version": "3.8.3"
  }
 },
 "nbformat": 4,
 "nbformat_minor": 5
}
