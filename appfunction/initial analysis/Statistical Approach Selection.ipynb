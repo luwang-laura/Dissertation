{
 "cells": [
  {
   "cell_type": "code",
   "execution_count": 1,
   "id": "violent-parks",
   "metadata": {},
   "outputs": [],
   "source": [
    "import numpy as np\n",
    "import pandas as pd\n",
    "import os as os\n",
    "import csv, sqlite3\n",
    "import matplotlib.pyplot as plt\n",
    "import seaborn as sns\n",
    "import statsmodels.stats.weightstats as st\n",
    "from scipy import stats"
   ]
  },
  {
   "cell_type": "code",
   "execution_count": 2,
   "id": "super-advantage",
   "metadata": {},
   "outputs": [
    {
     "name": "stdout",
     "output_type": "stream",
     "text": [
      "Please input file name：ECQ_D.csv: ECQ_D.csv\n"
     ]
    }
   ],
   "source": [
    "input_file_name = input(\"Please input file name：ECQ_D.csv: \")  ## Enter key to confirm input"
   ]
  },
  {
   "cell_type": "code",
   "execution_count": 3,
   "id": "dramatic-formation",
   "metadata": {},
   "outputs": [],
   "source": [
    "os.chdir(r\"C:\\\\Users\\laura\\Desktop\\论文\\Python\\AI_model\\ECQ_10_years_PA7\")# You may change the path accordingly\n",
    "subset_varible=[\"SEQN\",\"ECD010\",\"ECQ020\",\"ECQ060\",\"ECD070A\",\"MCQ080E\",\"WHQ030E\"]  # Filter specified variables"
   ]
  },
  {
   "cell_type": "code",
   "execution_count": 4,
   "id": "cutting-metropolitan",
   "metadata": {},
   "outputs": [],
   "source": [
    "data=pd.read_csv(input_file_name)\n",
    "data1 = data[subset_varible]"
   ]
  },
  {
   "cell_type": "code",
   "execution_count": 5,
   "id": "unlimited-sixth",
   "metadata": {},
   "outputs": [
    {
     "name": "stdout",
     "output_type": "stream",
     "text": [
      "(3154, 7)\n"
     ]
    },
    {
     "data": {
      "text/html": [
       "<div>\n",
       "<style scoped>\n",
       "    .dataframe tbody tr th:only-of-type {\n",
       "        vertical-align: middle;\n",
       "    }\n",
       "\n",
       "    .dataframe tbody tr th {\n",
       "        vertical-align: top;\n",
       "    }\n",
       "\n",
       "    .dataframe thead th {\n",
       "        text-align: right;\n",
       "    }\n",
       "</style>\n",
       "<table border=\"1\" class=\"dataframe\">\n",
       "  <thead>\n",
       "    <tr style=\"text-align: right;\">\n",
       "      <th></th>\n",
       "      <th>SEQN</th>\n",
       "      <th>ECD010</th>\n",
       "      <th>ECQ020</th>\n",
       "      <th>ECQ060</th>\n",
       "      <th>ECD070A</th>\n",
       "      <th>MCQ080E</th>\n",
       "      <th>WHQ030E</th>\n",
       "    </tr>\n",
       "  </thead>\n",
       "  <tbody>\n",
       "    <tr>\n",
       "      <th>1</th>\n",
       "      <td>31128.0</td>\n",
       "      <td>33.0</td>\n",
       "      <td>1.0</td>\n",
       "      <td>1.0</td>\n",
       "      <td>4.0</td>\n",
       "      <td>2.0</td>\n",
       "      <td>2.0</td>\n",
       "    </tr>\n",
       "    <tr>\n",
       "      <th>2</th>\n",
       "      <td>31129.0</td>\n",
       "      <td>19.0</td>\n",
       "      <td>2.0</td>\n",
       "      <td>2.0</td>\n",
       "      <td>6.0</td>\n",
       "      <td>2.0</td>\n",
       "      <td>3.0</td>\n",
       "    </tr>\n",
       "    <tr>\n",
       "      <th>4</th>\n",
       "      <td>31137.0</td>\n",
       "      <td>17.0</td>\n",
       "      <td>2.0</td>\n",
       "      <td>2.0</td>\n",
       "      <td>7.0</td>\n",
       "      <td>2.0</td>\n",
       "      <td>1.0</td>\n",
       "    </tr>\n",
       "    <tr>\n",
       "      <th>5</th>\n",
       "      <td>31138.0</td>\n",
       "      <td>21.0</td>\n",
       "      <td>2.0</td>\n",
       "      <td>2.0</td>\n",
       "      <td>7.0</td>\n",
       "      <td>2.0</td>\n",
       "      <td>3.0</td>\n",
       "    </tr>\n",
       "    <tr>\n",
       "      <th>6</th>\n",
       "      <td>31140.0</td>\n",
       "      <td>31.0</td>\n",
       "      <td>2.0</td>\n",
       "      <td>2.0</td>\n",
       "      <td>10.0</td>\n",
       "      <td>2.0</td>\n",
       "      <td>3.0</td>\n",
       "    </tr>\n",
       "  </tbody>\n",
       "</table>\n",
       "</div>"
      ],
      "text/plain": [
       "      SEQN  ECD010  ECQ020  ECQ060  ECD070A  MCQ080E  WHQ030E\n",
       "1  31128.0    33.0     1.0     1.0      4.0      2.0      2.0\n",
       "2  31129.0    19.0     2.0     2.0      6.0      2.0      3.0\n",
       "4  31137.0    17.0     2.0     2.0      7.0      2.0      1.0\n",
       "5  31138.0    21.0     2.0     2.0      7.0      2.0      3.0\n",
       "6  31140.0    31.0     2.0     2.0     10.0      2.0      3.0"
      ]
     },
     "execution_count": 5,
     "metadata": {},
     "output_type": "execute_result"
    }
   ],
   "source": [
    "data1 = data1[data1.ECD010 <= 60] ; data1 = data1[data1.ECQ060 <= 2]\n",
    "data1 = data1[data1.ECD070A <= 20] ; data1 = data1[data1.WHQ030E <= 3]\n",
    "data1 = data1[data1.MCQ080E <= 2] ; data1 = data1[data1.ECQ020 <= 2]#Remove abnormal data\n",
    "data1 = data1.dropna() # 去除含有空值的行\n",
    "print(data1.shape) #Check data dimensions\n",
    "data1.head()"
   ]
  },
  {
   "cell_type": "code",
   "execution_count": 6,
   "id": "generic-contract",
   "metadata": {},
   "outputs": [
    {
     "name": "stdout",
     "output_type": "stream",
     "text": [
      "<sqlite3.Connection object at 0x0000013E1207C4E0>\n"
     ]
    }
   ],
   "source": [
    "# connect function opens a connection to the SQLite database file, \n",
    "conn = sqlite3.connect('database.db')\n",
    "#Similarly we will make connection with other databases like Oracle, DB2 etc.\n",
    "print(conn)"
   ]
  },
  {
   "cell_type": "code",
   "execution_count": 7,
   "id": "tender-posting",
   "metadata": {},
   "outputs": [
    {
     "name": "stdout",
     "output_type": "stream",
     "text": [
      "Table dropped\n"
     ]
    }
   ],
   "source": [
    "# Drop a table name Crypto if it exists already\n",
    "try:\n",
    "    conn.execute('DROP TABLE IF EXISTS `tan2345` ')\n",
    "except Exception as e:\n",
    "    raise(e)\n",
    "finally:\n",
    "    print('Table dropped')"
   ]
  },
  {
   "cell_type": "code",
   "execution_count": 8,
   "id": "automated-bronze",
   "metadata": {},
   "outputs": [],
   "source": [
    "def create_table():\n",
    "    conn = sqlite3.connect(\"database.db\")\n",
    "    try:\n",
    "        create_tb_cmd='''\n",
    "       create table tan2345(SEQN integer ,ECD010 integer,ECQ020 integer,ECQ060 integer,WHQ030E integer,ECD070A integer,MCQ080E integer);\n",
    "        '''\n",
    "        conn.execute(create_tb_cmd)\n",
    "    except:\n",
    "        print(\"Create table failed\")\n",
    "        return False\n",
    "    #conn.execute(insert_dt_cmd)\n",
    "    conn.commit()\n",
    "create_table()"
   ]
  },
  {
   "cell_type": "code",
   "execution_count": 9,
   "id": "joined-teach",
   "metadata": {},
   "outputs": [],
   "source": [
    "conn = sqlite3.connect(\"database.db\")\n",
    "cu=conn.cursor()\n",
    "#Insert the newly fetched data into the database's table \n",
    "data1.to_sql('tan2345',conn, if_exists='append', index=False)  \n",
    "conn.commit()"
   ]
  },
  {
   "cell_type": "code",
   "execution_count": 10,
   "id": "analyzed-pasta",
   "metadata": {},
   "outputs": [
    {
     "data": {
      "text/html": [
       "<div>\n",
       "<style scoped>\n",
       "    .dataframe tbody tr th:only-of-type {\n",
       "        vertical-align: middle;\n",
       "    }\n",
       "\n",
       "    .dataframe tbody tr th {\n",
       "        vertical-align: top;\n",
       "    }\n",
       "\n",
       "    .dataframe thead th {\n",
       "        text-align: right;\n",
       "    }\n",
       "</style>\n",
       "<table border=\"1\" class=\"dataframe\">\n",
       "  <thead>\n",
       "    <tr style=\"text-align: right;\">\n",
       "      <th></th>\n",
       "      <th>SEQN</th>\n",
       "      <th>ECD010</th>\n",
       "      <th>ECQ020</th>\n",
       "      <th>ECQ060</th>\n",
       "      <th>WHQ030E</th>\n",
       "      <th>ECD070A</th>\n",
       "      <th>MCQ080E</th>\n",
       "    </tr>\n",
       "  </thead>\n",
       "  <tbody>\n",
       "    <tr>\n",
       "      <th>0</th>\n",
       "      <td>31128</td>\n",
       "      <td>33</td>\n",
       "      <td>1</td>\n",
       "      <td>1</td>\n",
       "      <td>2</td>\n",
       "      <td>4</td>\n",
       "      <td>2</td>\n",
       "    </tr>\n",
       "    <tr>\n",
       "      <th>1</th>\n",
       "      <td>31129</td>\n",
       "      <td>19</td>\n",
       "      <td>2</td>\n",
       "      <td>2</td>\n",
       "      <td>3</td>\n",
       "      <td>6</td>\n",
       "      <td>2</td>\n",
       "    </tr>\n",
       "    <tr>\n",
       "      <th>2</th>\n",
       "      <td>31137</td>\n",
       "      <td>17</td>\n",
       "      <td>2</td>\n",
       "      <td>2</td>\n",
       "      <td>1</td>\n",
       "      <td>7</td>\n",
       "      <td>2</td>\n",
       "    </tr>\n",
       "    <tr>\n",
       "      <th>3</th>\n",
       "      <td>31138</td>\n",
       "      <td>21</td>\n",
       "      <td>2</td>\n",
       "      <td>2</td>\n",
       "      <td>3</td>\n",
       "      <td>7</td>\n",
       "      <td>2</td>\n",
       "    </tr>\n",
       "    <tr>\n",
       "      <th>4</th>\n",
       "      <td>31140</td>\n",
       "      <td>31</td>\n",
       "      <td>2</td>\n",
       "      <td>2</td>\n",
       "      <td>3</td>\n",
       "      <td>10</td>\n",
       "      <td>2</td>\n",
       "    </tr>\n",
       "  </tbody>\n",
       "</table>\n",
       "</div>"
      ],
      "text/plain": [
       "    SEQN  ECD010  ECQ020  ECQ060  WHQ030E  ECD070A  MCQ080E\n",
       "0  31128      33       1       1        2        4        2\n",
       "1  31129      19       2       2        3        6        2\n",
       "2  31137      17       2       2        1        7        2\n",
       "3  31138      21       2       2        3        7        2\n",
       "4  31140      31       2       2        3       10        2"
      ]
     },
     "execution_count": 10,
     "metadata": {},
     "output_type": "execute_result"
    }
   ],
   "source": [
    "##Read the newest data from the database\n",
    "conn = sqlite3.connect(\"database.db\")\n",
    "#print(conn)\n",
    "sql=\"SELECT * from tan2345\"\n",
    "data2=pd.read_sql(sql,conn)\n",
    "data2.head()"
   ]
  },
  {
   "cell_type": "code",
   "execution_count": 11,
   "id": "attempted-river",
   "metadata": {},
   "outputs": [
    {
     "data": {
      "text/html": [
       "<div>\n",
       "<style scoped>\n",
       "    .dataframe tbody tr th:only-of-type {\n",
       "        vertical-align: middle;\n",
       "    }\n",
       "\n",
       "    .dataframe tbody tr th {\n",
       "        vertical-align: top;\n",
       "    }\n",
       "\n",
       "    .dataframe thead th {\n",
       "        text-align: right;\n",
       "    }\n",
       "</style>\n",
       "<table border=\"1\" class=\"dataframe\">\n",
       "  <thead>\n",
       "    <tr style=\"text-align: right;\">\n",
       "      <th></th>\n",
       "      <th>ID</th>\n",
       "      <th>Mother's age when born</th>\n",
       "      <th>Mother smoked when pregnant</th>\n",
       "      <th>Receive newborn care at health facility</th>\n",
       "      <th>How do you consider weight</th>\n",
       "      <th>Weight at birth, pounds</th>\n",
       "      <th>Doctor confirmed overweight</th>\n",
       "    </tr>\n",
       "  </thead>\n",
       "  <tbody>\n",
       "    <tr>\n",
       "      <th>0</th>\n",
       "      <td>31128</td>\n",
       "      <td>33</td>\n",
       "      <td>1</td>\n",
       "      <td>1</td>\n",
       "      <td>2</td>\n",
       "      <td>4</td>\n",
       "      <td>2</td>\n",
       "    </tr>\n",
       "    <tr>\n",
       "      <th>1</th>\n",
       "      <td>31129</td>\n",
       "      <td>19</td>\n",
       "      <td>2</td>\n",
       "      <td>2</td>\n",
       "      <td>3</td>\n",
       "      <td>6</td>\n",
       "      <td>2</td>\n",
       "    </tr>\n",
       "    <tr>\n",
       "      <th>2</th>\n",
       "      <td>31137</td>\n",
       "      <td>17</td>\n",
       "      <td>2</td>\n",
       "      <td>2</td>\n",
       "      <td>1</td>\n",
       "      <td>7</td>\n",
       "      <td>2</td>\n",
       "    </tr>\n",
       "    <tr>\n",
       "      <th>3</th>\n",
       "      <td>31138</td>\n",
       "      <td>21</td>\n",
       "      <td>2</td>\n",
       "      <td>2</td>\n",
       "      <td>3</td>\n",
       "      <td>7</td>\n",
       "      <td>2</td>\n",
       "    </tr>\n",
       "    <tr>\n",
       "      <th>4</th>\n",
       "      <td>31140</td>\n",
       "      <td>31</td>\n",
       "      <td>2</td>\n",
       "      <td>2</td>\n",
       "      <td>3</td>\n",
       "      <td>10</td>\n",
       "      <td>2</td>\n",
       "    </tr>\n",
       "  </tbody>\n",
       "</table>\n",
       "</div>"
      ],
      "text/plain": [
       "      ID  Mother's age when born  Mother smoked when pregnant  \\\n",
       "0  31128                      33                            1   \n",
       "1  31129                      19                            2   \n",
       "2  31137                      17                            2   \n",
       "3  31138                      21                            2   \n",
       "4  31140                      31                            2   \n",
       "\n",
       "   Receive newborn care at health facility  How do you consider weight  \\\n",
       "0                                        1                           2   \n",
       "1                                        2                           3   \n",
       "2                                        2                           1   \n",
       "3                                        2                           3   \n",
       "4                                        2                           3   \n",
       "\n",
       "   Weight at birth, pounds  Doctor confirmed overweight  \n",
       "0                        4                            2  \n",
       "1                        6                            2  \n",
       "2                        7                            2  \n",
       "3                        7                            2  \n",
       "4                       10                            2  "
      ]
     },
     "execution_count": 11,
     "metadata": {},
     "output_type": "execute_result"
    }
   ],
   "source": [
    "data2.columns = [\"ID\",\"Mother's age when born\",\"Mother smoked when pregnant\",\n",
    "                   \"Receive newborn care at health facility\",\"How do you consider weight\",\n",
    "                   \"Weight at birth, pounds\",\"Doctor confirmed overweight\"]\n",
    "data2.head()"
   ]
  },
  {
   "cell_type": "markdown",
   "id": "working-aurora",
   "metadata": {},
   "source": [
    "### Statistical Analysis"
   ]
  },
  {
   "cell_type": "code",
   "execution_count": 28,
   "id": "korean-delicious",
   "metadata": {},
   "outputs": [
    {
     "data": {
      "text/html": [
       "<div>\n",
       "<style scoped>\n",
       "    .dataframe tbody tr th:only-of-type {\n",
       "        vertical-align: middle;\n",
       "    }\n",
       "\n",
       "    .dataframe tbody tr th {\n",
       "        vertical-align: top;\n",
       "    }\n",
       "\n",
       "    .dataframe thead th {\n",
       "        text-align: right;\n",
       "    }\n",
       "</style>\n",
       "<table border=\"1\" class=\"dataframe\">\n",
       "  <thead>\n",
       "    <tr style=\"text-align: right;\">\n",
       "      <th></th>\n",
       "      <th>ID</th>\n",
       "      <th>Mother's age when born</th>\n",
       "      <th>Mother smoked when pregnant</th>\n",
       "      <th>Weight at birth, pounds</th>\n",
       "    </tr>\n",
       "  </thead>\n",
       "  <tbody>\n",
       "    <tr>\n",
       "      <th>0</th>\n",
       "      <td>31128</td>\n",
       "      <td>33</td>\n",
       "      <td>1</td>\n",
       "      <td>4</td>\n",
       "    </tr>\n",
       "    <tr>\n",
       "      <th>1</th>\n",
       "      <td>31129</td>\n",
       "      <td>19</td>\n",
       "      <td>2</td>\n",
       "      <td>6</td>\n",
       "    </tr>\n",
       "    <tr>\n",
       "      <th>2</th>\n",
       "      <td>31137</td>\n",
       "      <td>17</td>\n",
       "      <td>2</td>\n",
       "      <td>7</td>\n",
       "    </tr>\n",
       "    <tr>\n",
       "      <th>3</th>\n",
       "      <td>31138</td>\n",
       "      <td>21</td>\n",
       "      <td>2</td>\n",
       "      <td>7</td>\n",
       "    </tr>\n",
       "    <tr>\n",
       "      <th>4</th>\n",
       "      <td>31140</td>\n",
       "      <td>31</td>\n",
       "      <td>2</td>\n",
       "      <td>10</td>\n",
       "    </tr>\n",
       "  </tbody>\n",
       "</table>\n",
       "</div>"
      ],
      "text/plain": [
       "      ID  Mother's age when born  Mother smoked when pregnant  \\\n",
       "0  31128                      33                            1   \n",
       "1  31129                      19                            2   \n",
       "2  31137                      17                            2   \n",
       "3  31138                      21                            2   \n",
       "4  31140                      31                            2   \n",
       "\n",
       "   Weight at birth, pounds  \n",
       "0                        4  \n",
       "1                        6  \n",
       "2                        7  \n",
       "3                        7  \n",
       "4                       10  "
      ]
     },
     "execution_count": 28,
     "metadata": {},
     "output_type": "execute_result"
    }
   ],
   "source": [
    "subset_varible2=[\"ID\",\"Mother's age when born\",\"Mother smoked when pregnant\",\"Weight at birth, pounds\"]  # Filter specified variables\n",
    "data3 = data2[subset_varible2].copy()\n",
    "data3.head()"
   ]
  },
  {
   "cell_type": "code",
   "execution_count": 29,
   "id": "authentic-coaching",
   "metadata": {},
   "outputs": [
    {
     "name": "stdout",
     "output_type": "stream",
     "text": [
      "调查样本数为：4209\n",
      "剔除无效样本后，有效样本数为：3154\n"
     ]
    }
   ],
   "source": [
    "print('调查样本数为：%d' % data.shape[0])\n",
    "print('剔除无效样本后，有效样本数为：%d' % data3.shape[0])"
   ]
  },
  {
   "cell_type": "code",
   "execution_count": 30,
   "id": "portable-south",
   "metadata": {},
   "outputs": [
    {
     "name": "stdout",
     "output_type": "stream",
     "text": [
      "吸烟母亲人数：429，占比：13.60%\n"
     ]
    },
    {
     "data": {
      "image/png": "[encoded data removed]",
      "text/plain": [
       "<Figure size 432x288 with 1 Axes>"
      ]
     },
     "metadata": {},
     "output_type": "display_data"
    }
   ],
   "source": [
    "print('吸烟母亲人数：%d，占比：%3.2f%%' % (len(data3[data3['Mother smoked when pregnant']==1]),\\\n",
    "                                100 * len(data3[data3['Mother smoked when pregnant']==1]) / data3.shape[0]))\n",
    "num_list = list(data3['Mother smoked when pregnant'].value_counts()) #获取列ECQ020数据\n",
    "name_list = list(data3['Mother smoked when pregnant'].value_counts().index) #获取列ECQ020有哪些值\n",
    "plt.axes(aspect = 1) #饼图类型\n",
    "colors = ['#66b3ff','#99ff99']\n",
    "plt.pie(x = num_list, labels = ['No', 'Yes'],colors = colors, autopct = '%3.2f %%') #饼图\n",
    "plt.title('Mother smoked when pregnant' + ' Pie Chart') #设置标题\n",
    "plt.show()"
   ]
  },
  {
   "cell_type": "code",
   "execution_count": 31,
   "id": "specialized-standard",
   "metadata": {
    "scrolled": false
   },
   "outputs": [
    {
     "data": {
      "text/html": [
       "<div>\n",
       "<style scoped>\n",
       "    .dataframe tbody tr th:only-of-type {\n",
       "        vertical-align: middle;\n",
       "    }\n",
       "\n",
       "    .dataframe tbody tr th {\n",
       "        vertical-align: top;\n",
       "    }\n",
       "\n",
       "    .dataframe thead th {\n",
       "        text-align: right;\n",
       "    }\n",
       "</style>\n",
       "<table border=\"1\" class=\"dataframe\">\n",
       "  <thead>\n",
       "    <tr style=\"text-align: right;\">\n",
       "      <th></th>\n",
       "      <th>Mother's age when born</th>\n",
       "      <th>Mother smoked when pregnant</th>\n",
       "      <th>Weight at birth, pounds</th>\n",
       "    </tr>\n",
       "  </thead>\n",
       "  <tbody>\n",
       "    <tr>\n",
       "      <th>count</th>\n",
       "      <td>3154.000000</td>\n",
       "      <td>3154.000000</td>\n",
       "      <td>3154.000000</td>\n",
       "    </tr>\n",
       "    <tr>\n",
       "      <th>mean</th>\n",
       "      <td>25.902980</td>\n",
       "      <td>1.863982</td>\n",
       "      <td>6.810399</td>\n",
       "    </tr>\n",
       "    <tr>\n",
       "      <th>std</th>\n",
       "      <td>6.053266</td>\n",
       "      <td>0.342862</td>\n",
       "      <td>1.414507</td>\n",
       "    </tr>\n",
       "    <tr>\n",
       "      <th>min</th>\n",
       "      <td>14.000000</td>\n",
       "      <td>1.000000</td>\n",
       "      <td>1.000000</td>\n",
       "    </tr>\n",
       "    <tr>\n",
       "      <th>25%</th>\n",
       "      <td>21.000000</td>\n",
       "      <td>2.000000</td>\n",
       "      <td>6.000000</td>\n",
       "    </tr>\n",
       "    <tr>\n",
       "      <th>50%</th>\n",
       "      <td>25.000000</td>\n",
       "      <td>2.000000</td>\n",
       "      <td>7.000000</td>\n",
       "    </tr>\n",
       "    <tr>\n",
       "      <th>75%</th>\n",
       "      <td>30.000000</td>\n",
       "      <td>2.000000</td>\n",
       "      <td>8.000000</td>\n",
       "    </tr>\n",
       "    <tr>\n",
       "      <th>max</th>\n",
       "      <td>44.000000</td>\n",
       "      <td>2.000000</td>\n",
       "      <td>13.000000</td>\n",
       "    </tr>\n",
       "  </tbody>\n",
       "</table>\n",
       "</div>"
      ],
      "text/plain": [
       "       Mother's age when born  Mother smoked when pregnant  \\\n",
       "count             3154.000000                  3154.000000   \n",
       "mean                25.902980                     1.863982   \n",
       "std                  6.053266                     0.342862   \n",
       "min                 14.000000                     1.000000   \n",
       "25%                 21.000000                     2.000000   \n",
       "50%                 25.000000                     2.000000   \n",
       "75%                 30.000000                     2.000000   \n",
       "max                 44.000000                     2.000000   \n",
       "\n",
       "       Weight at birth, pounds  \n",
       "count              3154.000000  \n",
       "mean                  6.810399  \n",
       "std                   1.414507  \n",
       "min                   1.000000  \n",
       "25%                   6.000000  \n",
       "50%                   7.000000  \n",
       "75%                   8.000000  \n",
       "max                  13.000000  "
      ]
     },
     "execution_count": 31,
     "metadata": {},
     "output_type": "execute_result"
    }
   ],
   "source": [
    "data3.iloc[:, 1:5].describe()"
   ]
  },
  {
   "cell_type": "code",
   "execution_count": 32,
   "id": "hairy-bowling",
   "metadata": {},
   "outputs": [
    {
     "data": {
      "text/plain": [
       "Text(0, 0.5, 'Weight at birth, pounds')"
      ]
     },
     "execution_count": 32,
     "metadata": {},
     "output_type": "execute_result"
    },
    {
     "data": {
      "image/png": "[encoded data removed]",
      "text/plain": [
       "<Figure size 432x288 with 1 Axes>"
      ]
     },
     "metadata": {
      "needs_background": "light"
     },
     "output_type": "display_data"
    }
   ],
   "source": [
    "l = data3.shape[0] #Fetch the number of Rows\n",
    "x = data3[\"Mother's age when born\"].values + np.random.randint(-500, 500, l) / 1000\n",
    "y = data3['Weight at birth, pounds'].values + np.random.randint(-500, 500, l) / 1000\n",
    "sns.regplot(x=x, y=y,data=data3, line_kws={\"color\": \"red\"}) #spline curve \n",
    "plt.xlabel(\"Mother's age when born\")\n",
    "plt.ylabel(\"Weight at birth, pounds\")"
   ]
  },
  {
   "cell_type": "code",
   "execution_count": 33,
   "id": "czech-female",
   "metadata": {
    "scrolled": true
   },
   "outputs": [
    {
     "data": {
      "text/html": [
       "<div>\n",
       "<style scoped>\n",
       "    .dataframe tbody tr th:only-of-type {\n",
       "        vertical-align: middle;\n",
       "    }\n",
       "\n",
       "    .dataframe tbody tr th {\n",
       "        vertical-align: top;\n",
       "    }\n",
       "\n",
       "    .dataframe thead th {\n",
       "        text-align: right;\n",
       "    }\n",
       "</style>\n",
       "<table border=\"1\" class=\"dataframe\">\n",
       "  <thead>\n",
       "    <tr style=\"text-align: right;\">\n",
       "      <th></th>\n",
       "      <th>Mother's age when born</th>\n",
       "      <th>Mother smoked when pregnant</th>\n",
       "      <th>Weight at birth, pounds</th>\n",
       "    </tr>\n",
       "  </thead>\n",
       "  <tbody>\n",
       "    <tr>\n",
       "      <th>Mother's age when born</th>\n",
       "      <td>1.000000</td>\n",
       "      <td>0.027549</td>\n",
       "      <td>0.118228</td>\n",
       "    </tr>\n",
       "    <tr>\n",
       "      <th>Mother smoked when pregnant</th>\n",
       "      <td>0.027549</td>\n",
       "      <td>1.000000</td>\n",
       "      <td>0.075235</td>\n",
       "    </tr>\n",
       "    <tr>\n",
       "      <th>Weight at birth, pounds</th>\n",
       "      <td>0.118228</td>\n",
       "      <td>0.075235</td>\n",
       "      <td>1.000000</td>\n",
       "    </tr>\n",
       "  </tbody>\n",
       "</table>\n",
       "</div>"
      ],
      "text/plain": [
       "                             Mother's age when born  \\\n",
       "Mother's age when born                     1.000000   \n",
       "Mother smoked when pregnant                0.027549   \n",
       "Weight at birth, pounds                    0.118228   \n",
       "\n",
       "                             Mother smoked when pregnant  \\\n",
       "Mother's age when born                          0.027549   \n",
       "Mother smoked when pregnant                     1.000000   \n",
       "Weight at birth, pounds                         0.075235   \n",
       "\n",
       "                             Weight at birth, pounds  \n",
       "Mother's age when born                      0.118228  \n",
       "Mother smoked when pregnant                 0.075235  \n",
       "Weight at birth, pounds                     1.000000  "
      ]
     },
     "execution_count": 33,
     "metadata": {},
     "output_type": "execute_result"
    }
   ],
   "source": [
    "cor1 = data3.iloc[:, 1:4].corr(method='spearman')   # Calculate the correlation coefficient of 1 to 3 columns of variables\n",
    "cor1"
   ]
  },
  {
   "cell_type": "code",
   "execution_count": 34,
   "id": "postal-technical",
   "metadata": {
    "scrolled": false
   },
   "outputs": [
    {
     "data": {
      "text/html": [
       "<div>\n",
       "<style scoped>\n",
       "    .dataframe tbody tr th:only-of-type {\n",
       "        vertical-align: middle;\n",
       "    }\n",
       "\n",
       "    .dataframe tbody tr th {\n",
       "        vertical-align: top;\n",
       "    }\n",
       "\n",
       "    .dataframe thead th {\n",
       "        text-align: right;\n",
       "    }\n",
       "</style>\n",
       "<table border=\"1\" class=\"dataframe\">\n",
       "  <thead>\n",
       "    <tr style=\"text-align: right;\">\n",
       "      <th></th>\n",
       "      <th>Mother's age when born</th>\n",
       "      <th>Mother smoked when pregnant</th>\n",
       "      <th>Weight at birth, pounds</th>\n",
       "    </tr>\n",
       "  </thead>\n",
       "  <tbody>\n",
       "    <tr>\n",
       "      <th>Mother's age when born</th>\n",
       "      <td>1.000000</td>\n",
       "      <td>0.023006</td>\n",
       "      <td>0.089172</td>\n",
       "    </tr>\n",
       "    <tr>\n",
       "      <th>Mother smoked when pregnant</th>\n",
       "      <td>0.023006</td>\n",
       "      <td>1.000000</td>\n",
       "      <td>0.067588</td>\n",
       "    </tr>\n",
       "    <tr>\n",
       "      <th>Weight at birth, pounds</th>\n",
       "      <td>0.089172</td>\n",
       "      <td>0.067588</td>\n",
       "      <td>1.000000</td>\n",
       "    </tr>\n",
       "  </tbody>\n",
       "</table>\n",
       "</div>"
      ],
      "text/plain": [
       "                             Mother's age when born  \\\n",
       "Mother's age when born                     1.000000   \n",
       "Mother smoked when pregnant                0.023006   \n",
       "Weight at birth, pounds                    0.089172   \n",
       "\n",
       "                             Mother smoked when pregnant  \\\n",
       "Mother's age when born                          0.023006   \n",
       "Mother smoked when pregnant                     1.000000   \n",
       "Weight at birth, pounds                         0.067588   \n",
       "\n",
       "                             Weight at birth, pounds  \n",
       "Mother's age when born                      0.089172  \n",
       "Mother smoked when pregnant                 0.067588  \n",
       "Weight at birth, pounds                     1.000000  "
      ]
     },
     "execution_count": 34,
     "metadata": {},
     "output_type": "execute_result"
    }
   ],
   "source": [
    "cor2 = data3.iloc[:, 1:4].corr(method='kendall')   # Calculate the correlation coefficient of 1 to 3 columns of variables\n",
    "cor2"
   ]
  },
  {
   "cell_type": "code",
   "execution_count": 35,
   "id": "reasonable-science",
   "metadata": {},
   "outputs": [
    {
     "data": {
      "text/plain": [
       "<AxesSubplot:>"
      ]
     },
     "execution_count": 35,
     "metadata": {},
     "output_type": "execute_result"
    },
    {
     "data": {
      "image/png": "[encoded data removed]",
      "text/plain": [
       "<Figure size 432x288 with 2 Axes>"
      ]
     },
     "metadata": {
      "needs_background": "light"
     },
     "output_type": "display_data"
    }
   ],
   "source": [
    "del data3['ID']\n",
    "sns.heatmap(data3.corr(),annot = True,cmap=\"Blues\")"
   ]
  },
  {
   "cell_type": "code",
   "execution_count": 36,
   "id": "perceived-sperm",
   "metadata": {
    "scrolled": true
   },
   "outputs": [],
   "source": [
    "#sns.heatmap(cor1,annot = True, square=False,cmap=\"Blues\")"
   ]
  },
  {
   "cell_type": "code",
   "execution_count": 37,
   "id": "warming-horizontal",
   "metadata": {},
   "outputs": [],
   "source": [
    "#sns.heatmap(cor2,annot = True, square=False,cmap=\"Blues\")"
   ]
  },
  {
   "cell_type": "code",
   "execution_count": 47,
   "id": "expected-answer",
   "metadata": {},
   "outputs": [
    {
     "data": {
      "text/html": [
       "<div>\n",
       "<style scoped>\n",
       "    .dataframe tbody tr th:only-of-type {\n",
       "        vertical-align: middle;\n",
       "    }\n",
       "\n",
       "    .dataframe tbody tr th {\n",
       "        vertical-align: top;\n",
       "    }\n",
       "\n",
       "    .dataframe thead th {\n",
       "        text-align: right;\n",
       "    }\n",
       "</style>\n",
       "<table border=\"1\" class=\"dataframe\">\n",
       "  <thead>\n",
       "    <tr style=\"text-align: right;\">\n",
       "      <th></th>\n",
       "      <th>Mother smoked when preganent</th>\n",
       "      <th>Mother not smoke when preganent</th>\n",
       "    </tr>\n",
       "  </thead>\n",
       "  <tbody>\n",
       "    <tr>\n",
       "      <th>count</th>\n",
       "      <td>429.000000</td>\n",
       "      <td>2725.000000</td>\n",
       "    </tr>\n",
       "    <tr>\n",
       "      <th>mean</th>\n",
       "      <td>6.540793</td>\n",
       "      <td>6.852844</td>\n",
       "    </tr>\n",
       "    <tr>\n",
       "      <th>std</th>\n",
       "      <td>1.311823</td>\n",
       "      <td>1.425588</td>\n",
       "    </tr>\n",
       "    <tr>\n",
       "      <th>min</th>\n",
       "      <td>1.000000</td>\n",
       "      <td>1.000000</td>\n",
       "    </tr>\n",
       "    <tr>\n",
       "      <th>25%</th>\n",
       "      <td>6.000000</td>\n",
       "      <td>6.000000</td>\n",
       "    </tr>\n",
       "    <tr>\n",
       "      <th>50%</th>\n",
       "      <td>7.000000</td>\n",
       "      <td>7.000000</td>\n",
       "    </tr>\n",
       "    <tr>\n",
       "      <th>75%</th>\n",
       "      <td>7.000000</td>\n",
       "      <td>8.000000</td>\n",
       "    </tr>\n",
       "    <tr>\n",
       "      <th>max</th>\n",
       "      <td>11.000000</td>\n",
       "      <td>13.000000</td>\n",
       "    </tr>\n",
       "  </tbody>\n",
       "</table>\n",
       "</div>"
      ],
      "text/plain": [
       "       Mother smoked when preganent  Mother not smoke when preganent\n",
       "count                    429.000000                      2725.000000\n",
       "mean                       6.540793                         6.852844\n",
       "std                        1.311823                         1.425588\n",
       "min                        1.000000                         1.000000\n",
       "25%                        6.000000                         6.000000\n",
       "50%                        7.000000                         7.000000\n",
       "75%                        7.000000                         8.000000\n",
       "max                       11.000000                        13.000000"
      ]
     },
     "execution_count": 47,
     "metadata": {},
     "output_type": "execute_result"
    }
   ],
   "source": [
    "smoke = data3[data3['Mother smoked when pregnant']==1]['Weight at birth, pounds'] #母亲吸烟婴儿体重\n",
    "nosmoke = data3[data3['Mother smoked when pregnant']==2]['Weight at birth, pounds'] #母亲不吸烟婴儿体重\n",
    "data4 = pd.concat([smoke.describe(), nosmoke.describe()],axis=1)\n",
    "data4.columns=['Mother smoked when preganent','Mother not smoke when preganent']\n",
    "data4.iloc[:, 0:3]"
   ]
  },
  {
   "cell_type": "code",
   "execution_count": null,
   "id": "absent-insight",
   "metadata": {},
   "outputs": [],
   "source": []
  },
  {
   "cell_type": "code",
   "execution_count": 48,
   "id": "exact-stake",
   "metadata": {},
   "outputs": [
    {
     "data": {
      "image/png": "[encoded data removed]",
      "text/plain": [
       "<Figure size 432x288 with 2 Axes>"
      ]
     },
     "metadata": {
      "needs_background": "light"
     },
     "output_type": "display_data"
    }
   ],
   "source": [
    "#View data set distribution\n",
    "fig, axes = plt.subplots(ncols=2)\n",
    "sns.kdeplot(smoke, legend=False, ax=axes[0], bw_method = 0.5)\n",
    "sns.kdeplot(nosmoke, legend=False, ax=axes[1], bw_method = 0.5)\n",
    "\n",
    "axes[0].set(title='Mother smokes')\n",
    "axes[1].set(title='Mother not smokes')\n",
    "plt.subplots_adjust(wspace=0.2)"
   ]
  },
  {
   "cell_type": "code",
   "execution_count": 55,
   "id": "informal-rolling",
   "metadata": {},
   "outputs": [
    {
     "name": "stdout",
     "output_type": "stream",
     "text": [
      "Levene's方差齐性检验的P值为0.5304084363609181\n"
     ]
    }
   ],
   "source": [
    "W, levene_P = stats.levene(smoke, nosmoke, center='mean')\n",
    "#print(\"Levene's方差齐性检验的W统计量为\" + str(W))\n",
    "print(\"Levene's方差齐性检验的P值为\" + str(levene_P))"
   ]
  },
  {
   "cell_type": "code",
   "execution_count": 52,
   "id": "final-authority",
   "metadata": {},
   "outputs": [
    {
     "name": "stdout",
     "output_type": "stream",
     "text": [
      "p>a, 方差相等,建议使用Welch T\n"
     ]
    }
   ],
   "source": [
    "alpha = 0.05\n",
    "if(levene_P < alpha):\n",
    "    print(\"p<a, 方差不相等,建议使用Student t检验\")\n",
    "else:\n",
    "    print(\"p>a, 方差相等,建议使用Welch T\")"
   ]
  },
  {
   "cell_type": "code",
   "execution_count": 53,
   "id": "digital-processor",
   "metadata": {
    "scrolled": true
   },
   "outputs": [
    {
     "name": "stdout",
     "output_type": "stream",
     "text": [
      "t=-4.2587208374825645\n",
      "P-value=2.116083306858783e-05\n",
      "Degree of freedom=3152.0\n",
      "P<α，拒绝原假设，母亲孕期吸烟和母亲孕期不吸烟的平均新生婴儿体重显著差异。\n"
     ]
    }
   ],
   "source": [
    "t, p_two, df = st.ttest_ind(smoke, nosmoke)\n",
    "print('t=' + str(t))\n",
    "print('P-value=' + str(p_two))\n",
    "print('Degree of freedom=' + str(df))\n",
    "alpha = 0.05\n",
    "if(p_two < alpha): \n",
    "    #print('P<α，Rejecting the null hypothesis, there is a significant difference in the average weight of newborn babies between mothers smoked during pregnancy and those who did not smoke during pregnancy.')\n",
    "    print('P<α，拒绝原假设，母亲孕期吸烟和母亲孕期不吸烟的平均新生婴儿体重显著差异。')\n",
    "else: \n",
    "    #print('P>α，The null hypothesis holds. There is no significant difference in the average newborn baby weight between mothers who smoke during pregnancy and those who do not smoke during pregnancy.')\n",
    "    print('P>α，不能拒绝原假设，母亲孕期吸烟和母亲孕期不吸烟的平均新生婴儿体重无显著差异。')"
   ]
  },
  {
   "cell_type": "code",
   "execution_count": null,
   "id": "committed-stanley",
   "metadata": {},
   "outputs": [],
   "source": []
  },
  {
   "cell_type": "code",
   "execution_count": 57,
   "id": "mature-aberdeen",
   "metadata": {},
   "outputs": [],
   "source": [
    "# scipy.stats.ttest_rel（a，b，axis = 0）\n",
    "# from pingouin import welch_anova, read_dataset\n",
    "# df = read_dataset('anova')\n",
    "# aov = welch_anova(dv='Pain threshold', between='Hair color', data=df)\n",
    "# aov"
   ]
  },
  {
   "cell_type": "code",
   "execution_count": null,
   "id": "spatial-remains",
   "metadata": {},
   "outputs": [],
   "source": []
  }
 ],
 "metadata": {
  "kernelspec": {
   "display_name": "Python 3",
   "language": "python",
   "name": "python3"
  },
  "language_info": {
   "codemirror_mode": {
    "name": "ipython",
    "version": 3
   },
   "file_extension": ".py",
   "mimetype": "text/x-python",
   "name": "python",
   "nbconvert_exporter": "python",
   "pygments_lexer": "ipython3",
   "version": "3.8.3"
  }
 },
 "nbformat": 4,
 "nbformat_minor": 5
}
